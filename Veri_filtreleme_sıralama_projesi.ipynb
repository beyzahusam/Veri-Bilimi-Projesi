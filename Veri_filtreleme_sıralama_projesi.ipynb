{
 "cells": [
  {
   "cell_type": "markdown",
   "id": "621278bd",
   "metadata": {},
   "source": [
    "Çeşitli ülkelerin belirli kategorilerdeki verilerini içeren veri setinin analizi yapılacaktır. Öncelikle gerekli kütüphaneler eklenmeli ve veri seti okunmalıdır."
   ]
  },
  {
   "cell_type": "code",
   "execution_count": 1,
   "id": "afa2db93",
   "metadata": {},
   "outputs": [],
   "source": [
    "import pandas as pd\n",
    "df=pd.read_csv(\"C:\\\\Users\\\\beyza\\\\OneDrive\\\\Masaüstü\\\\VeriBilimi\\\\country.csv\")"
   ]
  },
  {
   "cell_type": "markdown",
   "id": "0e8b75e4",
   "metadata": {},
   "source": [
    "Ülkeleri nüfusa göre azalan sayıda sıralama:"
   ]
  },
  {
   "cell_type": "code",
   "execution_count": 2,
   "id": "9644bf83",
   "metadata": {},
   "outputs": [
    {
     "name": "stdout",
     "output_type": "stream",
     "text": [
      "Nüfusa göre azalan sırada ülkeler:\n",
      "                     Country  Population\n",
      "42                  China   1313973713\n",
      "94                  India   1095351995\n",
      "214         United States    298444215\n",
      "95              Indonesia    245452739\n",
      "27                 Brazil    188078227\n",
      "..                     ...         ...\n",
      "144                 Nauru        13287\n",
      "209                Tuvalu        11810\n",
      "140            Montserrat         9439\n",
      "171          Saint Helena         7502\n",
      "174  St Pierre & Miquelon         7026\n",
      "\n",
      "[227 rows x 2 columns]\n"
     ]
    }
   ],
   "source": [
    "print(\"Nüfusa göre azalan sırada ülkeler:\\n \", df.sort_values(\"Population\",ascending=False)[[\"Country\", \"Population\"]])"
   ]
  },
  {
   "cell_type": "markdown",
   "id": "b4b54c15",
   "metadata": {},
   "source": [
    "En yüksek nüfusa sahip ülke 1.313.973.713 ile Çin, en düşük ise 7026 ile St Pierre & Miquelon çıkmıştır."
   ]
  },
  {
   "cell_type": "markdown",
   "id": "8879aaa1",
   "metadata": {},
   "source": [
    "Kişi başına düşen ortalama gelire göre ülkeleri artan sayıda sıralama:"
   ]
  },
  {
   "cell_type": "code",
   "execution_count": 3,
   "id": "db0b29dd",
   "metadata": {},
   "outputs": [
    {
     "name": "stdout",
     "output_type": "stream",
     "text": [
      "GDP per capita sütununa göre artan sırada ülkeler:\n",
      "               Country  GDP ($ per capita)\n",
      "58       East Timor                500.0\n",
      "183    Sierra Leone                500.0\n",
      "188         Somalia                500.0\n",
      "33          Burundi                600.0\n",
      "125          Malawi                600.0\n",
      "..               ...                 ...\n",
      "22          Bermuda              36000.0\n",
      "154          Norway              37800.0\n",
      "214   United States              37800.0\n",
      "121      Luxembourg              55100.0\n",
      "223  Western Sahara                  NaN\n",
      "\n",
      "[227 rows x 2 columns]\n"
     ]
    }
   ],
   "source": [
    "print(\"GDP per capita sütununa göre artan sırada ülkeler:\\n \", df.sort_values(\"GDP ($ per capita)\",ascending=True)[[\"Country\", \"GDP ($ per capita)\"]])"
   ]
  },
  {
   "cell_type": "markdown",
   "id": "c65c106b",
   "metadata": {},
   "source": [
    "En düşük ortalama gelir 500 ile East Timor iken en yüksek 55.100 ile Lüksemburgdur. Western Sahara'nın ise GDP bilgisi yoktur."
   ]
  },
  {
   "cell_type": "markdown",
   "id": "729e7cbe",
   "metadata": {},
   "source": [
    "Nüfusu 10 milyonun üzerinde olan ülkeler:"
   ]
  },
  {
   "cell_type": "code",
   "execution_count": 4,
   "id": "4e47ad27",
   "metadata": {},
   "outputs": [
    {
     "name": "stdout",
     "output_type": "stream",
     "text": [
      "Nüfusu 10 milyonun üzerinde olan ülkeler: \n",
      "            Country  Population\n",
      "0    Afghanistan     31056997\n",
      "2        Algeria     32930091\n",
      "5         Angola     12127071\n",
      "8      Argentina     39921833\n",
      "11     Australia     20264082\n",
      "..            ...         ...\n",
      "218    Venezuela     25730435\n",
      "219      Vietnam     84402966\n",
      "224        Yemen     21456188\n",
      "225       Zambia     11502010\n",
      "226     Zimbabwe     12236805\n",
      "\n",
      "[79 rows x 2 columns]\n"
     ]
    }
   ],
   "source": [
    "print(\"Nüfusu 10 milyonun üzerinde olan ülkeler: \\n \", df[df[\"Population\"]>10000000][[\"Country\", \"Population\"]])"
   ]
  },
  {
   "cell_type": "markdown",
   "id": "5cd8918e",
   "metadata": {},
   "source": [
    "Nüfusu 10 milyonun üzerinde olan 79 ülke vardır."
   ]
  },
  {
   "cell_type": "markdown",
   "id": "af9ee668",
   "metadata": {},
   "source": [
    "Okur yazarlığa göre ülkeleri sıralayıp en yüksek okur-yazarlık oranına sahip ilk 5 ülkeyi seçme:"
   ]
  },
  {
   "cell_type": "code",
   "execution_count": 5,
   "id": "2973d274",
   "metadata": {},
   "outputs": [
    {
     "name": "stdout",
     "output_type": "stream",
     "text": [
      "En yüksek okur yazarlığa sahip 5 ülke: \n",
      "               Country Literacy (%)\n",
      "53   Czech Republic          99,9\n",
      "93          Iceland          99,9\n",
      "163          Poland          99,8\n",
      "114          Latvia          99,8\n",
      "64          Estonia          99,8\n"
     ]
    }
   ],
   "source": [
    "print(\"En yüksek okur yazarlığa sahip 5 ülke: \\n \", df.sort_values(\"Literacy (%)\",ascending=False)[[\"Country\", \"Literacy (%)\"]].head(5))"
   ]
  },
  {
   "cell_type": "markdown",
   "id": "d4f00090",
   "metadata": {},
   "source": [
    "En yüksek okur yazarlığa %99,9 ile Çek Cumhuriyeti sahiptir."
   ]
  },
  {
   "cell_type": "markdown",
   "id": "3f721247",
   "metadata": {},
   "source": [
    "Kişi başına düşen ortalama geliri 10.000'in üzerinde olan ülkeleri filtreleme:\n"
   ]
  },
  {
   "cell_type": "code",
   "execution_count": 6,
   "id": "ac50ef0a",
   "metadata": {},
   "outputs": [
    {
     "name": "stdout",
     "output_type": "stream",
     "text": [
      "Kişi Başı GSYİH 10.000'in üzerinde olan ülkeler:\n",
      "                     Country  GDP ($ per capita)\n",
      "4                 Andorra              19000.0\n",
      "7       Antigua & Barbuda              11000.0\n",
      "8               Argentina              11200.0\n",
      "10                  Aruba              28000.0\n",
      "11              Australia              29000.0\n",
      "..                     ...                 ...\n",
      "212  United Arab Emirates              23200.0\n",
      "213        United Kingdom              27700.0\n",
      "214         United States              37800.0\n",
      "215               Uruguay              12800.0\n",
      "220        Virgin Islands              17200.0\n",
      "\n",
      "[76 rows x 2 columns]\n"
     ]
    }
   ],
   "source": [
    "filtered_df=df[df[\"GDP ($ per capita)\"]>10000]\n",
    "print(\"Kişi Başı GSYİH 10.000'in üzerinde olan ülkeler:\\n \", filtered_df[[\"Country\",\"GDP ($ per capita)\"]])"
   ]
  },
  {
   "cell_type": "markdown",
   "id": "ede22a10",
   "metadata": {},
   "source": [
    "Kişi Başı GSYİH 10.000$'ın üzerinde olan 76 ülke vardır."
   ]
  },
  {
   "cell_type": "markdown",
   "id": "714008c1",
   "metadata": {},
   "source": [
    "Nüfus yoğunluğuna göre ülkeleri sıralayıp en yüksek nüfus yoğunluğuna sahip ilk 10 ülkeyi seçme:"
   ]
  },
  {
   "cell_type": "code",
   "execution_count": 7,
   "id": "874aa91b",
   "metadata": {},
   "outputs": [
    {
     "name": "stdout",
     "output_type": "stream",
     "text": [
      "En yüksek nüfus yoğunluğuna sahip 10 ülke:\n",
      "          Country Pop. Density (per sq. mi.)\n",
      "9       Armenia                        99,9\n",
      "186    Slovenia                        99,2\n",
      "202        Togo                        97,7\n",
      "12      Austria                        97,7\n",
      "168     Romania                        93,9\n",
      "77        Ghana                        93,6\n",
      "140  Montserrat                        92,5\n",
      "13   Azerbaijan                        91,9\n",
      "56     Dominica                        91,4\n",
      "206      Turkey                        90,2\n"
     ]
    }
   ],
   "source": [
    "print(\"En yüksek nüfus yoğunluğuna sahip 10 ülke:\\n\", df.sort_values(\"Pop. Density (per sq. mi.)\",ascending=False)[[\"Country\",\"Pop. Density (per sq. mi.)\"]].head(10))"
   ]
  },
  {
   "cell_type": "markdown",
   "id": "29a0726a",
   "metadata": {},
   "source": [
    "En yüksek nüfus yoğunluğuna sahip ülke %99,9 ile Ermenistan. 10. ise %90,2 ile Türkiye'dir."
   ]
  }
 ],
 "metadata": {
  "kernelspec": {
   "display_name": "base",
   "language": "python",
   "name": "python3"
  },
  "language_info": {
   "codemirror_mode": {
    "name": "ipython",
    "version": 3
   },
   "file_extension": ".py",
   "mimetype": "text/x-python",
   "name": "python",
   "nbconvert_exporter": "python",
   "pygments_lexer": "ipython3",
   "version": "3.13.5"
  }
 },
 "nbformat": 4,
 "nbformat_minor": 5
}
